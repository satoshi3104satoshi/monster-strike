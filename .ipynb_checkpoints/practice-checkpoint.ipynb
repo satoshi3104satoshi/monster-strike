{
 "cells": [
  {
   "cell_type": "code",
   "execution_count": 1,
   "metadata": {},
   "outputs": [],
   "source": [
    "import requests\n",
    "from bs4 import BeautifulSoup\n",
    "import time\n",
    "last_time='void'\n",
    "message = \"no changed\"\n",
    "url = 'https://monst-multi.net/Search?kwd=%E6%82%A0%E9%81%A0&sopt=sok#reload_view'"
   ]
  },
  {
   "cell_type": "code",
   "execution_count": 2,
   "metadata": {},
   "outputs": [],
   "source": [
    "def check():\n",
    "    global last_time\n",
    "    r = requests.get(url)\n",
    "    r.encoding = r.apparent_encoding\n",
    "    bs = BeautifulSoup(r.text,\"html.parser\")\n",
    "    time = bs.find_all('div', attrs={'style': 'font-size:12px;text-align: right;vertical-align: bottom;'})\n",
    "    comment = bs.find_all('div', attrs={'style':'height:43%;padding:5px;font-size:13px;line-height:20px;font-weight: bold;overflow: hidden;'})\n",
    "    if last_time == time[0].text:\n",
    "        pass\n",
    "    else:\n",
    "        last_time = time[0].text\n",
    "        print(last_time)\n",
    "        print(comment[0].text)\n",
    "        #message = last_time + comment[0].text\n",
    "        return last_time + \"\\n\" + comment[0].text\n",
    "\n",
    "def linenotify(m):\n",
    "    url = \"https://notify-api.line.me/api/notify\"\n",
    "    token = '9J5CIZ6gjxC0IPRSPWhgTMdaMCNfi9R8VlLdVynM6Gc'\n",
    "    headers = {\"Authorization\" : \"Bearer \"+ token}\n",
    "    payload = {\"message\" :  m}\n",
    "    r = requests.post(url ,headers = headers ,params=payload)"
   ]
  },
  {
   "cell_type": "code",
   "execution_count": 5,
   "metadata": {},
   "outputs": [],
   "source": [
    "linenotify(\"ごペンなさい\")"
   ]
  },
  {
   "cell_type": "code",
   "execution_count": null,
   "metadata": {},
   "outputs": [
    {
     "name": "stdout",
     "output_type": "stream",
     "text": [
      "モンストマルチ掲示板｜投稿時間：21時27分\n",
      "ルウイン運極\n",
      "モンストマルチ掲示板｜投稿時間：21時35分\n",
      "ルウイン運極\n",
      "モンストマルチ掲示板｜投稿時間：21時36分\n",
      "ルウイン運極\n",
      "モンストマルチ掲示板｜投稿時間：21時40分\n",
      "ルウイン運極　レキオウ4\n",
      "モンストマルチ掲示板｜投稿時間：21時42分\n",
      "ルウイン運極\n",
      "モンストマルチ掲示板｜投稿時間：21時43分\n",
      "ルウイン運極\n",
      "モンストマルチ掲示板｜投稿時間：21時44分\n",
      "ルウイン運極\n",
      "モンストマルチ掲示板｜投稿時間：21時45分\n",
      "ルウイン運極\n",
      "友撃か同撃\n",
      "モンストマルチ掲示板｜投稿時間：21時46分\n",
      "ルウイン運極\n",
      "友撃か同撃\n",
      "モンストマルチ掲示板｜投稿時間：21時47分\n",
      "ルウイン運極 主ルウイン運極友Ｌ\n",
      "レキオウ運極目指そう\n",
      "モンストマルチ掲示板｜投稿時間：21時59分\n",
      "ルウイン運極 主ルウイン運極友Ｌ\n",
      "レキオウ運極目指そう\n"
     ]
    }
   ],
   "source": [
    "while True:\n",
    "    linenotify(check())\n",
    "    time.sleep(10)"
   ]
  },
  {
   "cell_type": "code",
   "execution_count": null,
   "metadata": {},
   "outputs": [],
   "source": []
  }
 ],
 "metadata": {
  "kernelspec": {
   "display_name": "Python 3",
   "language": "python",
   "name": "python3"
  },
  "language_info": {
   "codemirror_mode": {
    "name": "ipython",
    "version": 3
   },
   "file_extension": ".py",
   "mimetype": "text/x-python",
   "name": "python",
   "nbconvert_exporter": "python",
   "pygments_lexer": "ipython3",
   "version": "3.7.0"
  }
 },
 "nbformat": 4,
 "nbformat_minor": 2
}

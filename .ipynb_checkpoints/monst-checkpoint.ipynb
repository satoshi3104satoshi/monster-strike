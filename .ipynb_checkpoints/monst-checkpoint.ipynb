{
 "cells": [
  {
   "cell_type": "code",
   "execution_count": 2,
   "metadata": {},
   "outputs": [],
   "source": [
    "import requests\n",
    "from bs4 import BeautifulSoup\n",
    "import time\n",
    "last_time='void'\n",
    "message = \"no changed\"\n",
    "\n",
    "url_rekiou = 'https://monst-multi.net/Search?kwd=%E6%82%A0%E9%81%A0&sopt=sok'\n",
    "url_daina = 'https://monst-multi.net/Search?kwd=%E3%83%80%E3%82%A4%E3%83%8A%E9%99%8D%E8%87%A8&sopt=sok'\n",
    "url_tsubasa = 'https://monst-multi.net/Search?kwd=%E3%83%84%E3%83%90%E3%82%B5&sopt=sok'\n",
    "url_ea = 'https://monst-multi.net/Search?kwd=%E3%82%A8%E3%82%A2&sopt=sok'"
   ]
  },
  {
   "cell_type": "code",
   "execution_count": 3,
   "metadata": {},
   "outputs": [],
   "source": [
    "def check(url):\n",
    "    global last_time\n",
    "    r = requests.get(url)\n",
    "    r.encoding = r.apparent_encoding\n",
    "    bs = BeautifulSoup(r.text,\"html.parser\")\n",
    "    time = bs.find_all('div', attrs={'style': 'font-size:12px;text-align: right;vertical-align: bottom;'})\n",
    "    comment = bs.find_all('div', attrs={'style':'height:43%;padding:5px;font-size:13px;line-height:20px;font-weight: bold;overflow: hidden;'})\n",
    "    \n",
    "    # 比べるやーつ\n",
    "    new = time[0].text + comment[0].text\n",
    "    if last_time == new:\n",
    "        pass\n",
    "    else:\n",
    "        last_time = new\n",
    "        text = time[0].text\n",
    "        print(text[-6:])\n",
    "        print(comment[0].text)\n",
    "        #message = last_time + comment[0].text\n",
    "        return text[-6:] + \"\\n\" + comment[0].text + \"\\n\" + url\n",
    "\n",
    "def linenotify(m):\n",
    "    url = \"https://notify-api.line.me/api/notify\"\n",
    "    token = 'IXafZ15f7wNi2h90WopI0ZWagvMbX6pIshCHpik9o70'\n",
    "    headers = {\"Authorization\" : \"Bearer \"+ token}\n",
    "    payload = {\"message\" :  m}\n",
    "    r = requests.post(url ,headers = headers ,params=payload)"
   ]
  },
  {
   "cell_type": "code",
   "execution_count": 3,
   "metadata": {},
   "outputs": [],
   "source": [
    "linenotify(url_ea)"
   ]
  },
  {
   "cell_type": "code",
   "execution_count": null,
   "metadata": {},
   "outputs": [
    {
     "name": "stdout",
     "output_type": "stream",
     "text": [
      "21時22分\n",
      "適正\n",
      "21時22分\n",
      "\n",
      "21時22分\n",
      "適正\n",
      "21時22分\n",
      "\n",
      "21時22分\n",
      "適正\n",
      "21時23分\n",
      "適正\n",
      "21時23分\n",
      "エア、適正\n",
      "21時23分\n",
      "おりょう、オスカー募集\n",
      "ホストはオスカーです\n",
      "21時23分\n",
      "適正\n",
      "21時23分\n",
      "助けてください\n",
      "21時23分\n",
      "適正\n",
      "21時23分\n",
      "オスカー、セポネ\n",
      "21時23分\n",
      "適正\n",
      "21時23分\n",
      "オスカー、セポネ\n",
      "21時23分\n",
      "適正\n",
      "21時24分\n",
      "エア出るまで高速周回3回目\n",
      "21時24分\n",
      "適正 エア出すための周回\n",
      "21時24分\n",
      "\n",
      "21時24分\n",
      "適正 エア出すための周回\n"
     ]
    }
   ],
   "source": [
    "while True:\n",
    "    linenotify(check(url_ea))"
   ]
  },
  {
   "cell_type": "code",
   "execution_count": null,
   "metadata": {},
   "outputs": [],
   "source": []
  }
 ],
 "metadata": {
  "kernelspec": {
   "display_name": "Python 3",
   "language": "python",
   "name": "python3"
  },
  "language_info": {
   "codemirror_mode": {
    "name": "ipython",
    "version": 3
   },
   "file_extension": ".py",
   "mimetype": "text/x-python",
   "name": "python",
   "nbconvert_exporter": "python",
   "pygments_lexer": "ipython3",
   "version": "3.7.0"
  }
 },
 "nbformat": 4,
 "nbformat_minor": 2
}
